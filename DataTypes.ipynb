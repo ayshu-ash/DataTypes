{
  "nbformat": 4,
  "nbformat_minor": 0,
  "metadata": {
    "colab": {
      "provenance": []
    },
    "kernelspec": {
      "name": "python3",
      "display_name": "Python 3"
    },
    "language_info": {
      "name": "python"
    }
  },
  "cells": [
    {
      "cell_type": "markdown",
      "source": [
        "# **Data Types and Structures Questions**"
      ],
      "metadata": {
        "id": "Xlo40_ra-rDA"
      }
    },
    {
      "cell_type": "markdown",
      "source": [
        "1. What are data structures, and why are they important?\n",
        " - Data structures are ways to organize and store the data in a computer. Think of it as a containers that help us manage data easily. Each type has a different way of storing, accessing and modifying data.\n",
        "\n",
        "    The reason why they are important is:\n",
        "\n",
        "    * They help in solving problems in a better and faster way.\n",
        "\n",
        "    * They help us access and work with data more easily and quickly.\n",
        "\n",
        "    * They help make programs easier to manage.\n",
        "\n",
        "    * It also conserve memory usage.\n",
        "\n",
        "    * It also simplify data manipulation.\n",
        "----\n",
        "\n",
        "2. Explain the difference between mutable and immutable data types with examples.\n",
        " - Mutable means the value of an object can be change after its being created. Eg: list, dictionary\n",
        "\n",
        "    Code example:\n",
        "\n",
        "    my_list=[1,2,3]\n",
        "\n",
        "    my_list[0]=10  #changes the first element\n",
        "\n",
        "    print(my_list)   #output: [10,2,3]\n",
        "\n",
        "    Immutable means the value of an object cannot be change after its created. Eg: Tuple, String\n",
        "\n",
        "    Code example:\n",
        "\n",
        "    str=\"hello\"\n",
        "\n",
        "    str[0]=\"H\"   #this will cause an error\n",
        "\n",
        "    print(str)\n",
        "\n",
        "------\n",
        "\n",
        "3. What are the main differences between lists and tuples in Python?\n",
        "  - * In list we use square brackets [], while in tuples we use round brackets ().\n",
        "\n",
        "    * In list values can be changes even after its created (mutable), but in tuples we cannot change the values after ite created (immutable).\n",
        "\n",
        "    * List slightly slower as it is flexible but tuples are faster as data is fixed.\n",
        "\n",
        "    * Use case: List is used for shopping list, task etc.\n",
        "\n",
        "       Tuple is used for adhar number, employee id, register id etc.\n",
        "------\n",
        "\n",
        "4.  Describe how dictionaries store data.\n",
        "  - In dictionary data is stored in key value pairs.\n",
        "\n",
        "         key: Unique identifier.\n",
        "\n",
        "       Values: Data associated with that key.\n",
        "\n",
        "  - Each value in dictionary is linked to unique keys.\n",
        "\n",
        "  - Keys must be unique and immutable, like strings tuples etc..\n",
        "\n",
        "--------\n",
        "\n",
        "5.  Why might you use a set instead of a list in Python?\n",
        "  - Sets automatically remove duplicate values but list allows duplicate. They are also faster when checking if a value exists. We can use sets only when we want unique values. Sets also support union, intersection, difference etc.. but these kind of operations are not available in list.\n",
        "\n",
        "---\n",
        "\n",
        "6.  What is a string in Python, and how is it different from a list?\n",
        "  - A string is a group of characters enclosed in quotes. It is used to store textual data. String is immutable which means once its created it cannot be changed.\n",
        "\n",
        "     On the other had list is an ordered collection of data where we can store elements of any data types.Here lists are immutable which means elements can be added, removed or changed after its creation.\n",
        "\n",
        "      The only key difference are strings are fixed used for handling text while list are flexible where we can store variety of items.\n",
        "\n",
        "--------\n",
        "\n",
        "7.  How do tuples ensure data integrity in Python?\n",
        "  - Tuples are immutable which means values or elements once created cannot be changed.\n",
        "\n",
        "  - This protects the data from being getting modified.\n",
        "\n",
        "  - It keeps your data safe as it cannot let it change it.\n",
        "\n",
        "---------\n",
        "\n",
        "8.  What is a hash table, and how does it relate to dictionaries in Python?\n",
        "  - A hash table is a way to store data in key-value pairs and allows for faster access of data as having a unique key. It works in a way where it converts the key into index numbers, which determines where the value is stored in memory. In python dictionaries use hash table. When you store value in a dictionary using key, python hashes the key and uses that to find or store the value quickly. This makes searching, adding or deleting data in a dictionary very fast.\n",
        "\n",
        "-------\n",
        "\n",
        "9.  Can lists contain different data types in Python?\n",
        "  - Yes, List can contain mixed or different data types like string, numbers etc..\n",
        "    \n",
        "     eg: my_lst=[\"True\",1, 2.5, 4+8j, \"Apple\"]\n",
        "\n",
        "------\n",
        "\n",
        "10. Explain why strings are immutable in Python.\n",
        "  - Once strings is created, it cannot be changed. This protects from accidental modifications as strings are used in multiple places.\n",
        "\n",
        "  - Python reuses the same string object in memory improving efficiency and speed.\n",
        "\n",
        "  - Strings are also used in dictionaries as keys and the dictionary keys must not change so immutability is required.\n",
        "\n",
        "--------\n",
        "\n",
        "11. What advantages do dictionaries offer over lists for certain tasks?\n",
        "  - In dictionaries lets you stores data with names (which is keys) not just numbers (indexes). Finding data by key is faster than index. It also lets you store the data in meaningful key-value pairs. It is good for storing information like student records, employee details etc...\n",
        "\n",
        "------\n",
        "\n",
        "12. How do sets handle duplicate values in Python?\n",
        "  - Sets automatically removes the duplicate values. Even if you have entered the same value again and again, it will still give you the unique values.\n",
        "\n",
        "-----\n",
        "\n",
        "13. Describe a scenario where using a tuple would be preferable over a list.\n",
        "  - When you want to store the fixed data that should not change, use a tuple instead of list.\n",
        "\n",
        "     Scenario: Storing Date of Birth (DOB) of students in a student record system. Here a date of birth of one individual is fixed it doesnt have to be changed, so a tuple ensures its protected from any kind of modifications.\n",
        "\n",
        "------\n",
        "14. How does the “in” keyword work differently for lists and dictionaries?\n",
        "  - In a list \"in\" checks if a value exists there.\n",
        "  - But in a dictionary \"in\" checks if a key exists, not a value.\n",
        "\n",
        "     Eg:\"apple\" in [\"orange\",\"apple\"]  #true\n",
        "         \n",
        "         \"name\" in {\"name\":\"Aysha\", \"Age\":21}  #true\n",
        "\n",
        "------\n",
        "\n",
        "15. Can you modify the elements of a tuple? Explain why or why not?\n",
        "  - No, you cannot change any element created in tuple because it it immutable. If you want to change elements, you can use list instead of tuple.\n",
        "\n",
        "------\n",
        "\n",
        "16. What is a nested dictionary, and give an example of its use case?\n",
        "  - A nested dictionary means dictionary inside another dictionary. It is useful for storing detailed data.\n",
        "\n",
        "     use case: Students details, employee records, product info etc..\n",
        "\n",
        "------\n",
        "\n",
        "17. Describe the time complexity of accessing elements in a dictionary.\n",
        "  - It is usually very fast, so the time complexity of dictionary is 0(1). You get the value directly using the key.\n",
        "\n",
        "------\n",
        "\n",
        "18. In what situations are lists preferred over dictionaries?\n",
        "  - Use list when order matter for you or you want to go through each items one by one.\n",
        "  - Use list when you want to save the data without key-value pairs or labels.\n",
        "\n",
        "-----\n",
        "\n",
        "19. Why are dictionaries considered unordered, and how does that affect data retrieval?\n",
        "  -  Dictionaries are unordered because they store data by keys and not in the order like list. So while accessing the values you cant use the positions like (0, 1, 2). You can only access the values using the keys so here order doesn't matter.\n",
        "\n",
        "-----\n",
        "\n",
        "20. Explain the difference between a list and a dictionary in terms of data retrieval.\n",
        "  - List are used when you want to keep the items in order. In a list data can be accessed using the index position like (list[0], list[1]).\n",
        "    \n",
        "     Dictionaries are used when you want to find the values quickly using a label. In a dictionary data can be accessed using the keys like (dict[name], dict[id]).\n",
        "\n",
        "\n",
        "\n",
        "\n",
        "\n",
        "\n"
      ],
      "metadata": {
        "id": "gn1bS7Fr-xuA"
      }
    },
    {
      "cell_type": "markdown",
      "source": [
        "#  Practical Questions"
      ],
      "metadata": {
        "id": "Pm5YArg4_6WJ"
      }
    },
    {
      "cell_type": "code",
      "source": [
        "#1.  Write a code to create a string with your name and print it.\n",
        "name=\"Aysha\"\n",
        "print(name)"
      ],
      "metadata": {
        "colab": {
          "base_uri": "https://localhost:8080/"
        },
        "id": "UiNMqA84__Jk",
        "outputId": "e8f17d99-8e32-4165-830e-5622dd598c6a"
      },
      "execution_count": 1,
      "outputs": [
        {
          "output_type": "stream",
          "name": "stdout",
          "text": [
            "Aysha\n"
          ]
        }
      ]
    },
    {
      "cell_type": "code",
      "source": [
        "#2.  Write a code to find the length of the string \"Hello World\".\n",
        "word=\"Hello World\"\n",
        "print(len(word))"
      ],
      "metadata": {
        "colab": {
          "base_uri": "https://localhost:8080/"
        },
        "id": "kZwDHcKuAIO7",
        "outputId": "42c9a912-61b1-4fa8-86dd-416f66025a24"
      },
      "execution_count": 2,
      "outputs": [
        {
          "output_type": "stream",
          "name": "stdout",
          "text": [
            "11\n"
          ]
        }
      ]
    },
    {
      "cell_type": "code",
      "source": [
        "#3.  Write a code to slice the first 3 characters from the string \"Python Programming\".\n",
        "word=\"Python Programming\"\n",
        "print(word[0:3])"
      ],
      "metadata": {
        "colab": {
          "base_uri": "https://localhost:8080/"
        },
        "id": "U5phgwrvAJlF",
        "outputId": "79154f77-77bb-41ce-fcc2-6f0d25923801"
      },
      "execution_count": 5,
      "outputs": [
        {
          "output_type": "stream",
          "name": "stdout",
          "text": [
            "Pyt\n"
          ]
        }
      ]
    },
    {
      "cell_type": "code",
      "source": [
        "#4.  Write a code to convert the string \"hello\" to uppercase.\n",
        "my_word=\"hello\"\n",
        "print(my_word.upper())"
      ],
      "metadata": {
        "colab": {
          "base_uri": "https://localhost:8080/"
        },
        "id": "xPl8MuBFAK46",
        "outputId": "291ceed3-098a-4c57-efed-93fdf29c1b26"
      },
      "execution_count": 8,
      "outputs": [
        {
          "output_type": "stream",
          "name": "stdout",
          "text": [
            "HELLO\n"
          ]
        }
      ]
    },
    {
      "cell_type": "code",
      "source": [
        "#5.  Write a code to replace the word \"apple\" with \"orange\" in the string \"I like apple\".\n",
        "s=\"I like apple\"\n",
        "print(s.replace(\"apple\",\"orange\"))"
      ],
      "metadata": {
        "colab": {
          "base_uri": "https://localhost:8080/"
        },
        "id": "kYsdbaLfAMlt",
        "outputId": "fb6cf691-3650-49f3-a62e-e2ced5ff3f09"
      },
      "execution_count": 11,
      "outputs": [
        {
          "output_type": "stream",
          "name": "stdout",
          "text": [
            "I like orange\n"
          ]
        }
      ]
    },
    {
      "cell_type": "code",
      "source": [
        "#6. Write a code to create a list with numbers 1 to 5 and print it.\n",
        "my_list=[1,2,3,4,5]\n",
        "print(my_list)"
      ],
      "metadata": {
        "colab": {
          "base_uri": "https://localhost:8080/"
        },
        "id": "Pw4_SjNHANtj",
        "outputId": "c9f1d8cb-c927-4287-ce9b-eb3622fcadfd"
      },
      "execution_count": 13,
      "outputs": [
        {
          "output_type": "stream",
          "name": "stdout",
          "text": [
            "[1, 2, 3, 4, 5]\n"
          ]
        }
      ]
    },
    {
      "cell_type": "code",
      "source": [
        "#7.  Write a code to append the number 10 to the list [1, 2, 3, 4].\n",
        "list=[1,2,3,4]\n",
        "list.append(10)\n",
        "print(list)"
      ],
      "metadata": {
        "colab": {
          "base_uri": "https://localhost:8080/"
        },
        "id": "oaZdolX1AR3p",
        "outputId": "d1209e60-ac3e-42d9-8cda-3f2bf2eb08a6"
      },
      "execution_count": 16,
      "outputs": [
        {
          "output_type": "stream",
          "name": "stdout",
          "text": [
            "[1, 2, 3, 4, 10]\n"
          ]
        }
      ]
    },
    {
      "cell_type": "code",
      "source": [
        "#8.  Write a code to remove the number 3 from the list [1, 2, 3, 4, 5].\n",
        "my_list=[1, 2, 3, 4, 5]\n",
        "my_list.remove(3)\n",
        "print(my_list)"
      ],
      "metadata": {
        "colab": {
          "base_uri": "https://localhost:8080/"
        },
        "id": "VfGEC6FmAS-t",
        "outputId": "9bbbac1c-6ddc-4af8-a4fd-e41e03f4526d"
      },
      "execution_count": 20,
      "outputs": [
        {
          "output_type": "stream",
          "name": "stdout",
          "text": [
            "[1, 2, 4, 5]\n"
          ]
        }
      ]
    },
    {
      "cell_type": "code",
      "source": [
        "#9.  Write a code to access the second element in the list ['a', 'b', 'c', 'd'].\n",
        "lst=['a', 'b', 'c', 'd']\n",
        "print(lst[1])"
      ],
      "metadata": {
        "colab": {
          "base_uri": "https://localhost:8080/"
        },
        "id": "LgpfR9POAUE7",
        "outputId": "94fe27e1-fc6e-4623-b03e-8272ef934fe4"
      },
      "execution_count": 1,
      "outputs": [
        {
          "output_type": "stream",
          "name": "stdout",
          "text": [
            "b\n"
          ]
        }
      ]
    },
    {
      "cell_type": "code",
      "source": [
        "#10.  Write a code to reverse the list [10, 20, 30, 40, 50].\n",
        "lst=[10, 20, 30, 40, 50]\n",
        "print(lst[::-1])"
      ],
      "metadata": {
        "colab": {
          "base_uri": "https://localhost:8080/"
        },
        "id": "4mRJydkKAVx_",
        "outputId": "12d237c8-d275-49a9-b9a3-e90e568ef108"
      },
      "execution_count": 23,
      "outputs": [
        {
          "output_type": "stream",
          "name": "stdout",
          "text": [
            "[50, 40, 30, 20, 10]\n"
          ]
        }
      ]
    }
  ]
}